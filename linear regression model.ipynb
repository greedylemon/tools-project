{
 "cells": [
  {
   "cell_type": "code",
   "execution_count": 1,
   "metadata": {},
   "outputs": [
    {
     "data": {
      "text/html": [
       "<div>\n",
       "<style scoped>\n",
       "    .dataframe tbody tr th:only-of-type {\n",
       "        vertical-align: middle;\n",
       "    }\n",
       "\n",
       "    .dataframe tbody tr th {\n",
       "        vertical-align: top;\n",
       "    }\n",
       "\n",
       "    .dataframe thead th {\n",
       "        text-align: right;\n",
       "    }\n",
       "</style>\n",
       "<table border=\"1\" class=\"dataframe\">\n",
       "  <thead>\n",
       "    <tr style=\"text-align: right;\">\n",
       "      <th></th>\n",
       "      <th>Date</th>\n",
       "      <th>AAPL</th>\n",
       "      <th>AMFE</th>\n",
       "      <th>ASNT</th>\n",
       "      <th>AVEO</th>\n",
       "      <th>BOXL</th>\n",
       "      <th>CEI</th>\n",
       "      <th>COOP</th>\n",
       "      <th>CRMD</th>\n",
       "      <th>CSRH</th>\n",
       "      <th>...</th>\n",
       "      <th>NVDA</th>\n",
       "      <th>OACQ</th>\n",
       "      <th>ORC</th>\n",
       "      <th>RIBT</th>\n",
       "      <th>RNWR</th>\n",
       "      <th>ROX</th>\n",
       "      <th>SYCRF</th>\n",
       "      <th>TPL</th>\n",
       "      <th>VCSY</th>\n",
       "      <th>WYNN</th>\n",
       "    </tr>\n",
       "  </thead>\n",
       "  <tbody>\n",
       "    <tr>\n",
       "      <th>0</th>\n",
       "      <td>2014-01-02</td>\n",
       "      <td>79.018570</td>\n",
       "      <td>0.0095</td>\n",
       "      <td>NaN</td>\n",
       "      <td>1.80</td>\n",
       "      <td>NaN</td>\n",
       "      <td>612.50</td>\n",
       "      <td>34.439999</td>\n",
       "      <td>1.36</td>\n",
       "      <td>0.009</td>\n",
       "      <td>...</td>\n",
       "      <td>15.860000</td>\n",
       "      <td>NaN</td>\n",
       "      <td>13.23</td>\n",
       "      <td>5.19</td>\n",
       "      <td>NaN</td>\n",
       "      <td>0.71</td>\n",
       "      <td>0.73</td>\n",
       "      <td>99.500000</td>\n",
       "      <td>0.0609</td>\n",
       "      <td>197.940002</td>\n",
       "    </tr>\n",
       "    <tr>\n",
       "      <th>1</th>\n",
       "      <td>2014-01-03</td>\n",
       "      <td>77.282860</td>\n",
       "      <td>0.0090</td>\n",
       "      <td>NaN</td>\n",
       "      <td>1.85</td>\n",
       "      <td>NaN</td>\n",
       "      <td>612.50</td>\n",
       "      <td>35.280003</td>\n",
       "      <td>1.49</td>\n",
       "      <td>0.009</td>\n",
       "      <td>...</td>\n",
       "      <td>15.670000</td>\n",
       "      <td>NaN</td>\n",
       "      <td>13.39</td>\n",
       "      <td>5.48</td>\n",
       "      <td>NaN</td>\n",
       "      <td>0.78</td>\n",
       "      <td>0.77</td>\n",
       "      <td>99.500000</td>\n",
       "      <td>0.0650</td>\n",
       "      <td>196.000000</td>\n",
       "    </tr>\n",
       "    <tr>\n",
       "      <th>2</th>\n",
       "      <td>2014-01-06</td>\n",
       "      <td>77.704285</td>\n",
       "      <td>0.0090</td>\n",
       "      <td>NaN</td>\n",
       "      <td>1.80</td>\n",
       "      <td>NaN</td>\n",
       "      <td>618.75</td>\n",
       "      <td>33.000000</td>\n",
       "      <td>1.46</td>\n",
       "      <td>0.009</td>\n",
       "      <td>...</td>\n",
       "      <td>15.880000</td>\n",
       "      <td>NaN</td>\n",
       "      <td>13.42</td>\n",
       "      <td>5.34</td>\n",
       "      <td>NaN</td>\n",
       "      <td>0.76</td>\n",
       "      <td>0.75</td>\n",
       "      <td>99.570000</td>\n",
       "      <td>0.0640</td>\n",
       "      <td>195.860001</td>\n",
       "    </tr>\n",
       "    <tr>\n",
       "      <th>3</th>\n",
       "      <td>2014-01-07</td>\n",
       "      <td>77.148575</td>\n",
       "      <td>0.0090</td>\n",
       "      <td>NaN</td>\n",
       "      <td>1.78</td>\n",
       "      <td>NaN</td>\n",
       "      <td>618.75</td>\n",
       "      <td>32.280003</td>\n",
       "      <td>1.50</td>\n",
       "      <td>0.009</td>\n",
       "      <td>...</td>\n",
       "      <td>16.139999</td>\n",
       "      <td>NaN</td>\n",
       "      <td>13.23</td>\n",
       "      <td>5.66</td>\n",
       "      <td>NaN</td>\n",
       "      <td>0.77</td>\n",
       "      <td>0.85</td>\n",
       "      <td>98.650002</td>\n",
       "      <td>0.0630</td>\n",
       "      <td>201.509995</td>\n",
       "    </tr>\n",
       "    <tr>\n",
       "      <th>4</th>\n",
       "      <td>2014-01-08</td>\n",
       "      <td>77.637146</td>\n",
       "      <td>0.0095</td>\n",
       "      <td>NaN</td>\n",
       "      <td>1.78</td>\n",
       "      <td>NaN</td>\n",
       "      <td>625.00</td>\n",
       "      <td>32.160000</td>\n",
       "      <td>1.60</td>\n",
       "      <td>0.009</td>\n",
       "      <td>...</td>\n",
       "      <td>16.360001</td>\n",
       "      <td>NaN</td>\n",
       "      <td>13.38</td>\n",
       "      <td>5.59</td>\n",
       "      <td>NaN</td>\n",
       "      <td>0.81</td>\n",
       "      <td>0.85</td>\n",
       "      <td>98.449997</td>\n",
       "      <td>0.0600</td>\n",
       "      <td>205.289993</td>\n",
       "    </tr>\n",
       "  </tbody>\n",
       "</table>\n",
       "<p>5 rows × 36 columns</p>\n",
       "</div>"
      ],
      "text/plain": [
       "         Date       AAPL    AMFE  ASNT  AVEO  BOXL     CEI       COOP  CRMD  \\\n",
       "0  2014-01-02  79.018570  0.0095   NaN  1.80   NaN  612.50  34.439999  1.36   \n",
       "1  2014-01-03  77.282860  0.0090   NaN  1.85   NaN  612.50  35.280003  1.49   \n",
       "2  2014-01-06  77.704285  0.0090   NaN  1.80   NaN  618.75  33.000000  1.46   \n",
       "3  2014-01-07  77.148575  0.0090   NaN  1.78   NaN  618.75  32.280003  1.50   \n",
       "4  2014-01-08  77.637146  0.0095   NaN  1.78   NaN  625.00  32.160000  1.60   \n",
       "\n",
       "    CSRH     ...           NVDA  OACQ    ORC  RIBT  RNWR   ROX  SYCRF  \\\n",
       "0  0.009     ...      15.860000   NaN  13.23  5.19   NaN  0.71   0.73   \n",
       "1  0.009     ...      15.670000   NaN  13.39  5.48   NaN  0.78   0.77   \n",
       "2  0.009     ...      15.880000   NaN  13.42  5.34   NaN  0.76   0.75   \n",
       "3  0.009     ...      16.139999   NaN  13.23  5.66   NaN  0.77   0.85   \n",
       "4  0.009     ...      16.360001   NaN  13.38  5.59   NaN  0.81   0.85   \n",
       "\n",
       "         TPL    VCSY        WYNN  \n",
       "0  99.500000  0.0609  197.940002  \n",
       "1  99.500000  0.0650  196.000000  \n",
       "2  99.570000  0.0640  195.860001  \n",
       "3  98.650002  0.0630  201.509995  \n",
       "4  98.449997  0.0600  205.289993  \n",
       "\n",
       "[5 rows x 36 columns]"
      ]
     },
     "execution_count": 1,
     "metadata": {},
     "output_type": "execute_result"
    }
   ],
   "source": [
    "#import packages\n",
    "import pandas as pd\n",
    "import numpy as np\n",
    "#to plot within notebook\n",
    "import matplotlib.pyplot as plt\n",
    "%matplotlib inline\n",
    "\n",
    "#setting figure size\n",
    "from matplotlib.pylab import rcParams\n",
    "rcParams['figure.figsize'] = 20,10\n",
    "\n",
    "#for normalizing data\n",
    "from sklearn.preprocessing import MinMaxScaler\n",
    "scaler = MinMaxScaler(feature_range=(0, 1))\n",
    "\n",
    "#read the file\n",
    "df = pd.read_csv('stock_price_list',delimiter='\\t')\n",
    "\n",
    "#print the head\n",
    "df.head()"
   ]
  },
  {
   "cell_type": "code",
   "execution_count": 2,
   "metadata": {},
   "outputs": [],
   "source": [
    "#setting index as date values\n",
    "df['Date'] = pd.to_datetime(df.Date,format='%Y-%m-%d')\n",
    "df.index = df['Date']\n",
    "\n",
    "#sorting\n",
    "data = df.sort_index(ascending=True, axis=0)\n",
    "\n",
    "#creating a separate dataset\n",
    "new_data = pd.DataFrame(index=range(0,len(df)),columns=['Date', 'Close'])\n",
    "\n",
    "for i in range(0,len(data)):\n",
    "    new_data['Date'][i] = data['Date'][i]\n",
    "    new_data['Close'][i] = data['AAPL'][i]"
   ]
  },
  {
   "cell_type": "code",
   "execution_count": 3,
   "metadata": {},
   "outputs": [
    {
     "name": "stderr",
     "output_type": "stream",
     "text": [
      "/Users/wyc/anaconda3/lib/python3.6/site-packages/sklearn/ensemble/weight_boosting.py:29: DeprecationWarning: numpy.core.umath_tests is an internal NumPy module and should not be imported. It will be removed in a future NumPy release.\n",
      "  from numpy.core.umath_tests import inner1d\n"
     ]
    }
   ],
   "source": [
    "#create features\n",
    "from fastai.structured import  add_datepart\n",
    "add_datepart(new_data, 'Date')\n",
    "new_data.drop('Elapsed', axis=1, inplace=True)  #elapsed will be the time stamp"
   ]
  },
  {
   "cell_type": "code",
   "execution_count": 4,
   "metadata": {},
   "outputs": [
    {
     "name": "stderr",
     "output_type": "stream",
     "text": [
      "/Users/wyc/anaconda3/lib/python3.6/site-packages/ipykernel_launcher.py:6: SettingWithCopyWarning: \n",
      "A value is trying to be set on a copy of a slice from a DataFrame\n",
      "\n",
      "See the caveats in the documentation: http://pandas.pydata.org/pandas-docs/stable/indexing.html#indexing-view-versus-copy\n",
      "  \n",
      "/Users/wyc/anaconda3/lib/python3.6/site-packages/ipykernel_launcher.py:4: SettingWithCopyWarning: \n",
      "A value is trying to be set on a copy of a slice from a DataFrame\n",
      "\n",
      "See the caveats in the documentation: http://pandas.pydata.org/pandas-docs/stable/indexing.html#indexing-view-versus-copy\n",
      "  after removing the cwd from sys.path.\n"
     ]
    }
   ],
   "source": [
    "new_data['mon_fri'] = 0\n",
    "for i in range(0,len(new_data)):\n",
    "    if (new_data['Dayofweek'][i] == 0 or new_data['Dayofweek'][i] == 4):\n",
    "        new_data['mon_fri'][i] = 1\n",
    "    else:\n",
    "        new_data['mon_fri'][i] = 0"
   ]
  },
  {
   "cell_type": "code",
   "execution_count": 5,
   "metadata": {},
   "outputs": [
    {
     "data": {
      "text/plain": [
       "LinearRegression(copy_X=True, fit_intercept=True, n_jobs=1, normalize=False)"
      ]
     },
     "execution_count": 5,
     "metadata": {},
     "output_type": "execute_result"
    }
   ],
   "source": [
    "#split into train and validation\n",
    "train = new_data[:987]\n",
    "valid = new_data[987:]\n",
    "\n",
    "x_train = train.drop('Close', axis=1)\n",
    "y_train = train['Close']\n",
    "x_valid = valid.drop('Close', axis=1)\n",
    "y_valid = valid['Close']\n",
    "\n",
    "#implement linear regression\n",
    "from sklearn.linear_model import LinearRegression\n",
    "model = LinearRegression()\n",
    "model.fit(x_train,y_train)"
   ]
  },
  {
   "cell_type": "code",
   "execution_count": 6,
   "metadata": {},
   "outputs": [
    {
     "data": {
      "text/plain": [
       "36.249188679694555"
      ]
     },
     "execution_count": 6,
     "metadata": {},
     "output_type": "execute_result"
    }
   ],
   "source": [
    "#make predictions and find the rmse\n",
    "preds = model.predict(x_valid)\n",
    "rms=np.sqrt(np.mean(np.power((np.array(y_valid)-np.array(preds)),2)))\n",
    "rms"
   ]
  },
  {
   "cell_type": "code",
   "execution_count": 7,
   "metadata": {},
   "outputs": [
    {
     "name": "stderr",
     "output_type": "stream",
     "text": [
      "/Users/wyc/anaconda3/lib/python3.6/site-packages/ipykernel_launcher.py:2: SettingWithCopyWarning: \n",
      "A value is trying to be set on a copy of a slice from a DataFrame.\n",
      "Try using .loc[row_indexer,col_indexer] = value instead\n",
      "\n",
      "See the caveats in the documentation: http://pandas.pydata.org/pandas-docs/stable/indexing.html#indexing-view-versus-copy\n",
      "  \n",
      "/Users/wyc/anaconda3/lib/python3.6/site-packages/ipykernel_launcher.py:3: SettingWithCopyWarning: \n",
      "A value is trying to be set on a copy of a slice from a DataFrame.\n",
      "Try using .loc[row_indexer,col_indexer] = value instead\n",
      "\n",
      "See the caveats in the documentation: http://pandas.pydata.org/pandas-docs/stable/indexing.html#indexing-view-versus-copy\n",
      "  This is separate from the ipykernel package so we can avoid doing imports until\n"
     ]
    },
    {
     "data": {
      "text/plain": [
       "[<matplotlib.lines.Line2D at 0x1c2f346128>,\n",
       " <matplotlib.lines.Line2D at 0x1c2f3462b0>]"
      ]
     },
     "execution_count": 7,
     "metadata": {},
     "output_type": "execute_result"
    },
    {
     "data": {
      "image/png": "[encoded data removed]",
      "text/plain": [
       "<Figure size 432x288 with 1 Axes>"
      ]
     },
     "metadata": {},
     "output_type": "display_data"
    }
   ],
   "source": [
    "#plot\n",
    "valid['Predictions'] = 0\n",
    "valid['Predictions'] = preds\n",
    "\n",
    "valid.index = new_data[987:].index\n",
    "train.index = new_data[:987].index\n",
    "\n",
    "plt.plot(train['Close'])\n",
    "plt.plot(valid[['Close', 'Predictions']])"
   ]
  },
  {
   "cell_type": "code",
   "execution_count": null,
   "metadata": {},
   "outputs": [],
   "source": []
  }
 ],
 "metadata": {
  "kernelspec": {
   "display_name": "Python 3",
   "language": "python",
   "name": "python3"
  },
  "language_info": {
   "codemirror_mode": {
    "name": "ipython",
    "version": 3
   },
   "file_extension": ".py",
   "mimetype": "text/x-python",
   "name": "python",
   "nbconvert_exporter": "python",
   "pygments_lexer": "ipython3",
   "version": "3.6.5"
  }
 },
 "nbformat": 4,
 "nbformat_minor": 2
}
