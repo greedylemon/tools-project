{
 "cells": [
  {
   "cell_type": "code",
   "execution_count": 113,
   "metadata": {},
   "outputs": [],
   "source": [
    "url = 'https://investorshub.advfn.com/boards/hubstocks.aspx' \n",
    "all_clubs_list = []\n",
    "club_names_list = []\n",
    "import requests\n",
    "from bs4 import BeautifulSoup\n",
    "page = BeautifulSoup(requests.get(url).content,'lxml')    \n",
    "#we can get a list of clubs and we want to find one specific label \"us listed\"\n",
    "all_clubs_list = page.find_all('span',class_ = \"hubcatlabel\")\n",
    "for i in all_clubs_list:\n",
    "    club_names_list.append(i.get_text())"
   ]
  },
  {
   "cell_type": "code",
   "execution_count": 114,
   "metadata": {},
   "outputs": [],
   "source": [
    "#because it does not have any label on the tr tag, we have to locate by iterating in a list \n",
    "sectors = list()\n",
    "sectors_dict = {}\n",
    "for i in page.find_all('div', class_ = \"hubcat\"):\n",
    "    sectors.append(i.find_all('tr'))\n",
    "for i in sectors[4]:\n",
    "    sector_name = i.find('a').get_text()\n",
    "    sector_link = i.find('a').get('href')\n",
    "    sector_link = 'https://investorshub.advfn.com/boards/' + sector_link\n",
    "    sectors_dict[sector_name] = sector_link"
   ]
  },
  {
   "cell_type": "code",
   "execution_count": 115,
   "metadata": {},
   "outputs": [],
   "source": [
    "tickers_dict = {}\n",
    "for i,j in sectors_dict.items():\n",
    "    tickers_dict[i] = get_tickers(j)"
   ]
  },
  {
   "cell_type": "code",
   "execution_count": 116,
   "metadata": {},
   "outputs": [
    {
     "name": "stdout",
     "output_type": "stream",
     "text": [
      "{'3D Printing (11)': 'https://investorshub.advfn.com/boards/boards.aspx?cat_id=186', 'Alternative Energy (340)': 'https://investorshub.advfn.com/boards/boards.aspx?cat_id=158', 'Automotive and Transportation (282)': 'https://investorshub.advfn.com/boards/boards.aspx?cat_id=52', 'Banking and Finance (894)': 'https://investorshub.advfn.com/boards/boards.aspx?cat_id=23', 'Basic Materials (319)': 'https://investorshub.advfn.com/boards/boards.aspx?cat_id=53', 'Biotechs (670)': 'https://investorshub.advfn.com/boards/boards.aspx?cat_id=24', 'Brokerages/Investment Banks (84)': 'https://investorshub.advfn.com/boards/boards.aspx?cat_id=25', 'Cannabis (53)': 'https://investorshub.advfn.com/boards/boards.aspx?cat_id=179', 'Chemicals (79)': 'https://investorshub.advfn.com/boards/boards.aspx?cat_id=47', 'Computers - Hardware (85)': 'https://investorshub.advfn.com/boards/boards.aspx?cat_id=33', 'Computers - Networks (86)': 'https://investorshub.advfn.com/boards/boards.aspx?cat_id=35', 'Computers - Semiconductors (97)': 'https://investorshub.advfn.com/boards/boards.aspx?cat_id=51', 'Computers - Software (296)': 'https://investorshub.advfn.com/boards/boards.aspx?cat_id=34', 'Cryptocurrency Industry (21)': 'https://investorshub.advfn.com/boards/boards.aspx?cat_id=183', 'Electronics and components (280)': 'https://investorshub.advfn.com/boards/boards.aspx?cat_id=32', 'Food - Beverages (151)': 'https://investorshub.advfn.com/boards/boards.aspx?cat_id=40', 'Food - Processing and Agriculture (120)': 'https://investorshub.advfn.com/boards/boards.aspx?cat_id=39', 'Gaming and Casinos (67)': 'https://investorshub.advfn.com/boards/boards.aspx?cat_id=31', 'Insurance (123)': 'https://investorshub.advfn.com/boards/boards.aspx?cat_id=116', 'Internet - E-Commerce (122)': 'https://investorshub.advfn.com/boards/boards.aspx?cat_id=36', 'Internet - Information/Portals (66)': 'https://investorshub.advfn.com/boards/boards.aspx?cat_id=37', 'Internet - Online Services (126)': 'https://investorshub.advfn.com/boards/boards.aspx?cat_id=38', 'Media - Conglomerates (51)': 'https://investorshub.advfn.com/boards/boards.aspx?cat_id=44', 'Media - Newspapers/Print (36)': 'https://investorshub.advfn.com/boards/boards.aspx?cat_id=42', 'Media - Television Services (77)': 'https://investorshub.advfn.com/boards/boards.aspx?cat_id=43', 'Medical - Drugs (197)': 'https://investorshub.advfn.com/boards/boards.aspx?cat_id=48', 'Medical - Equipment (181)': 'https://investorshub.advfn.com/boards/boards.aspx?cat_id=49', 'Medical - Healthcare (252)': 'https://investorshub.advfn.com/boards/boards.aspx?cat_id=113', 'Mining/Resources (274)': 'https://investorshub.advfn.com/boards/boards.aspx?cat_id=148', 'Miscellaneous (873)': 'https://investorshub.advfn.com/boards/boards.aspx?cat_id=126', 'Oil/Gas/Natural Energy Production (707)': 'https://investorshub.advfn.com/boards/boards.aspx?cat_id=41', 'Real Estate (294)': 'https://investorshub.advfn.com/boards/boards.aspx?cat_id=119', 'Retail - Chains (264)': 'https://investorshub.advfn.com/boards/boards.aspx?cat_id=50', 'Telecommunications Hardware (93)': 'https://investorshub.advfn.com/boards/boards.aspx?cat_id=46', 'Telecommunications Networks (208)': 'https://investorshub.advfn.com/boards/boards.aspx?cat_id=45'}\n"
     ]
    }
   ],
   "source": [
    "#all the sectors and urls\n",
    "print(sectors_dict)"
   ]
  },
  {
   "cell_type": "code",
   "execution_count": 117,
   "metadata": {},
   "outputs": [
    {
     "name": "stdout",
     "output_type": "stream",
     "text": [
      "{'3D Printing (11)': ('DDDX', 'https://ih.advfn.com/exchanges/USOTC/DDDX/stock-price'), 'Alternative Energy (340)': ('JE', 'https://ih.advfn.com/exchanges/NYSE/JE/stock-price'), 'Automotive and Transportation (282)': ('FNHI', 'https://ih.advfn.com/exchanges/USOTC/FNHI/stock-price'), 'Banking and Finance (894)': ('SYCRF', 'https://ih.advfn.com/exchanges/USOTC/SYCRF/stock-price'), 'Basic Materials (319)': ('CSRH', 'https://ih.advfn.com/exchanges/USOTC/CSRH/stock-price'), 'Biotechs (670)': ('CVM', 'https://ih.advfn.com/exchanges/AMEX/CVM/stock-price'), 'Brokerages/Investment Banks (84)': ('ORC', 'https://ih.advfn.com/exchanges/NYSE/ORC/stock-price'), 'Cannabis (53)': ('AMFE', 'https://ih.advfn.com/exchanges/USOTC/AMFE/stock-price'), 'Chemicals (79)': ('GLTC', 'https://ih.advfn.com/exchanges/USOTC/GLTC/stock-price'), 'Computers - Hardware (85)': ('AAPL', 'https://ih.advfn.com/exchanges/NASDAQ/AAPL/stock-price'), 'Computers - Networks (86)': ('VCSY', 'https://ih.advfn.com/exchanges/USOTC/VCSY/stock-price'), 'Computers - Semiconductors (97)': ('NVDA', 'https://ih.advfn.com/exchanges/NASDAQ/NVDA/stock-price'), 'Computers - Software (296)': ('HMNY', 'https://ih.advfn.com/exchanges/NASDAQ/HMNY/stock-price'), 'Cryptocurrency Industry (21)': ('ASNT', 'https://ih.advfn.com/exchanges/USOTC/ASNT/stock-price'), 'Electronics and components (280)': ('GSAT', 'https://ih.advfn.com/exchanges/AMEX/GSAT/stock-price'), 'Food - Beverages (151)': ('ROX', 'https://ih.advfn.com/exchanges/AMEX/ROX/stock-price'), 'Food - Processing and Agriculture (120)': ('RIBT', 'https://ih.advfn.com/exchanges/NASDAQ/RIBT/stock-price'), 'Gaming and Casinos (67)': ('WYNN', 'https://ih.advfn.com/exchanges/NASDAQ/WYNN/stock-price'), 'Insurance (123)': ('COOP', 'https://ih.advfn.com/exchanges/NASDAQ/COOP/stock-price'), 'Internet - E-Commerce (122)': ('GGII', 'https://ih.advfn.com/exchanges/USOTC/GGII/stock-price'), 'Internet - Information/Portals (66)': ('FB', 'https://ih.advfn.com/exchanges/NASDAQ/FB/stock-price'), 'Internet - Online Services (126)': ('RNWR', 'https://ih.advfn.com/exchanges/USOTC/RNWR/stock-price'), 'Media - Conglomerates (51)': ('MSMY', 'https://ih.advfn.com/exchanges/USOTC/MSMY/stock-price'), 'Media - Newspapers/Print (36)': ('OACQ', None), 'Media - Television Services (77)': ('IDEX', 'https://ih.advfn.com/exchanges/NASDAQ/IDEX/stock-price'), 'Medical - Drugs (197)': ('AVEO', 'https://ih.advfn.com/exchanges/NASDAQ/AVEO/stock-price'), 'Medical - Equipment (181)': ('MDT', 'https://ih.advfn.com/exchanges/NYSE/MDT/stock-price'), 'Medical - Healthcare (252)': ('CRMD', 'https://ih.advfn.com/exchanges/AMEX/CRMD/stock-price'), 'Mining/Resources (274)': ('NULGF', 'https://ih.advfn.com/exchanges/USOTC/NULGF/stock-price'), 'Miscellaneous (873)': ('FTNW', 'https://ih.advfn.com/exchanges/AMEX/FTNW/stock-price'), 'Oil/Gas/Natural Energy Production (707)': ('CEI', 'https://ih.advfn.com/exchanges/AMEX/CEI/stock-price'), 'Real Estate (294)': ('TPL', 'https://ih.advfn.com/exchanges/NYSE/TPL/stock-price'), 'Retail - Chains (264)': ('CVS', 'https://ih.advfn.com/exchanges/NYSE/CVS/stock-price'), 'Telecommunications Hardware (93)': ('BOXL', 'https://ih.advfn.com/exchanges/NASDAQ/BOXL/stock-price'), 'Telecommunications Networks (208)': ('CTL', 'https://ih.advfn.com/exchanges/NYSE/CTL/stock-price')}\n"
     ]
    }
   ],
   "source": [
    "#all the tickers\n",
    "print(tickers_dict)"
   ]
  },
  {
   "cell_type": "code",
   "execution_count": 107,
   "metadata": {},
   "outputs": [],
   "source": [
    "def get_tickers(sector_page_link):\n",
    "    import requests\n",
    "    from bs4 import BeautifulSoup\n",
    "    page = BeautifulSoup(requests.get(sector_page_link).content,'lxml')\n",
    "    list_ = []\n",
    "    for j in page.find_all('tr')[1]:\n",
    "        list_.append(j.find('a'))\n",
    "    ticker = list_[1].get_text()\n",
    "    ticker_stock_price = list_[1].get('href')\n",
    "    return ticker,ticker_stock_price"
   ]
  },
  {
   "cell_type": "code",
   "execution_count": 118,
   "metadata": {},
   "outputs": [
    {
     "data": {
      "text/plain": [
       "{'3D Printing (11)': ('DDDX',\n",
       "  'https://ih.advfn.com/exchanges/USOTC/DDDX/stock-price'),\n",
       " 'Alternative Energy (340)': ('JE',\n",
       "  'https://ih.advfn.com/exchanges/NYSE/JE/stock-price'),\n",
       " 'Automotive and Transportation (282)': ('FNHI',\n",
       "  'https://ih.advfn.com/exchanges/USOTC/FNHI/stock-price'),\n",
       " 'Banking and Finance (894)': ('SYCRF',\n",
       "  'https://ih.advfn.com/exchanges/USOTC/SYCRF/stock-price'),\n",
       " 'Basic Materials (319)': ('CSRH',\n",
       "  'https://ih.advfn.com/exchanges/USOTC/CSRH/stock-price'),\n",
       " 'Biotechs (670)': ('CVM',\n",
       "  'https://ih.advfn.com/exchanges/AMEX/CVM/stock-price'),\n",
       " 'Brokerages/Investment Banks (84)': ('ORC',\n",
       "  'https://ih.advfn.com/exchanges/NYSE/ORC/stock-price'),\n",
       " 'Cannabis (53)': ('AMFE',\n",
       "  'https://ih.advfn.com/exchanges/USOTC/AMFE/stock-price'),\n",
       " 'Chemicals (79)': ('GLTC',\n",
       "  'https://ih.advfn.com/exchanges/USOTC/GLTC/stock-price'),\n",
       " 'Computers - Hardware (85)': ('AAPL',\n",
       "  'https://ih.advfn.com/exchanges/NASDAQ/AAPL/stock-price'),\n",
       " 'Computers - Networks (86)': ('VCSY',\n",
       "  'https://ih.advfn.com/exchanges/USOTC/VCSY/stock-price'),\n",
       " 'Computers - Semiconductors (97)': ('NVDA',\n",
       "  'https://ih.advfn.com/exchanges/NASDAQ/NVDA/stock-price'),\n",
       " 'Computers - Software (296)': ('HMNY',\n",
       "  'https://ih.advfn.com/exchanges/NASDAQ/HMNY/stock-price'),\n",
       " 'Cryptocurrency Industry (21)': ('ASNT',\n",
       "  'https://ih.advfn.com/exchanges/USOTC/ASNT/stock-price'),\n",
       " 'Electronics and components (280)': ('GSAT',\n",
       "  'https://ih.advfn.com/exchanges/AMEX/GSAT/stock-price'),\n",
       " 'Food - Beverages (151)': ('ROX',\n",
       "  'https://ih.advfn.com/exchanges/AMEX/ROX/stock-price'),\n",
       " 'Food - Processing and Agriculture (120)': ('RIBT',\n",
       "  'https://ih.advfn.com/exchanges/NASDAQ/RIBT/stock-price'),\n",
       " 'Gaming and Casinos (67)': ('WYNN',\n",
       "  'https://ih.advfn.com/exchanges/NASDAQ/WYNN/stock-price'),\n",
       " 'Insurance (123)': ('COOP',\n",
       "  'https://ih.advfn.com/exchanges/NASDAQ/COOP/stock-price'),\n",
       " 'Internet - E-Commerce (122)': ('GGII',\n",
       "  'https://ih.advfn.com/exchanges/USOTC/GGII/stock-price'),\n",
       " 'Internet - Information/Portals (66)': ('FB',\n",
       "  'https://ih.advfn.com/exchanges/NASDAQ/FB/stock-price'),\n",
       " 'Internet - Online Services (126)': ('RNWR',\n",
       "  'https://ih.advfn.com/exchanges/USOTC/RNWR/stock-price'),\n",
       " 'Media - Conglomerates (51)': ('MSMY',\n",
       "  'https://ih.advfn.com/exchanges/USOTC/MSMY/stock-price'),\n",
       " 'Media - Newspapers/Print (36)': ('OACQ', None),\n",
       " 'Media - Television Services (77)': ('IDEX',\n",
       "  'https://ih.advfn.com/exchanges/NASDAQ/IDEX/stock-price'),\n",
       " 'Medical - Drugs (197)': ('AVEO',\n",
       "  'https://ih.advfn.com/exchanges/NASDAQ/AVEO/stock-price'),\n",
       " 'Medical - Equipment (181)': ('MDT',\n",
       "  'https://ih.advfn.com/exchanges/NYSE/MDT/stock-price'),\n",
       " 'Medical - Healthcare (252)': ('CRMD',\n",
       "  'https://ih.advfn.com/exchanges/AMEX/CRMD/stock-price'),\n",
       " 'Mining/Resources (274)': ('NULGF',\n",
       "  'https://ih.advfn.com/exchanges/USOTC/NULGF/stock-price'),\n",
       " 'Miscellaneous (873)': ('FTNW',\n",
       "  'https://ih.advfn.com/exchanges/AMEX/FTNW/stock-price'),\n",
       " 'Oil/Gas/Natural Energy Production (707)': ('CEI',\n",
       "  'https://ih.advfn.com/exchanges/AMEX/CEI/stock-price'),\n",
       " 'Real Estate (294)': ('TPL',\n",
       "  'https://ih.advfn.com/exchanges/NYSE/TPL/stock-price'),\n",
       " 'Retail - Chains (264)': ('CVS',\n",
       "  'https://ih.advfn.com/exchanges/NYSE/CVS/stock-price'),\n",
       " 'Telecommunications Hardware (93)': ('BOXL',\n",
       "  'https://ih.advfn.com/exchanges/NASDAQ/BOXL/stock-price'),\n",
       " 'Telecommunications Networks (208)': ('CTL',\n",
       "  'https://ih.advfn.com/exchanges/NYSE/CTL/stock-price')}"
      ]
     },
     "execution_count": 118,
     "metadata": {},
     "output_type": "execute_result"
    }
   ],
   "source": [
    "tickers_dict"
   ]
  },
  {
   "cell_type": "code",
   "execution_count": null,
   "metadata": {},
   "outputs": [],
   "source": []
  },
  {
   "cell_type": "code",
   "execution_count": 135,
   "metadata": {},
   "outputs": [],
   "source": [
    "def stock_price(tickers_dict):\n",
    "    import datetime\n",
    "    import numpy as np\n",
    "    import pandas as pd\n",
    "    %matplotlib inline\n",
    "    pd.core.common.is_list_like = pd.api.types.is_list_like\n",
    "    import pandas_datareader.data as web\n",
    "    import fix_yahoo_finance as yf\n",
    "    import datetime\n",
    "\n",
    "    start = datetime.datetime(2014,1,1)\n",
    "    end = datetime.datetime(2018,11,24)\n",
    "\n",
    "    stock_list = []\n",
    "    for i,j in tickers_dict.items():\n",
    "        stock_list.append((j[0]))\n",
    "\n",
    "    df = web.DataReader(stock_list,'yahoo', start,end)['Close']\n",
    "    return df"
   ]
  },
  {
   "cell_type": "code",
   "execution_count": 137,
   "metadata": {},
   "outputs": [
    {
     "name": "stderr",
     "output_type": "stream",
     "text": [
      "/Users/kedicui/anaconda3/lib/python3.6/site-packages/pandas_datareader/base.py:230: SymbolWarning: Failed to read symbol: 'OACQ', replacing with NaN.\n",
      "  warnings.warn(msg.format(sym), SymbolWarning)\n"
     ]
    }
   ],
   "source": [
    "df = stock_price(tickers_dict)"
   ]
  },
  {
   "cell_type": "code",
   "execution_count": 139,
   "metadata": {},
   "outputs": [],
   "source": [
    "df.to_csv('stock_price_list', sep='\\t')"
   ]
  },
  {
   "cell_type": "code",
   "execution_count": null,
   "metadata": {},
   "outputs": [],
   "source": []
  }
 ],
 "metadata": {
  "kernelspec": {
   "display_name": "Python 3",
   "language": "python",
   "name": "python3"
  },
  "language_info": {
   "codemirror_mode": {
    "name": "ipython",
    "version": 3
   },
   "file_extension": ".py",
   "mimetype": "text/x-python",
   "name": "python",
   "nbconvert_exporter": "python",
   "pygments_lexer": "ipython3",
   "version": "3.6.5"
  }
 },
 "nbformat": 4,
 "nbformat_minor": 2
}
