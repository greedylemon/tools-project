{
 "cells": [
  {
   "cell_type": "code",
   "execution_count": 4,
   "metadata": {},
   "outputs": [
    {
     "name": "stdout",
     "output_type": "stream",
     "text": [
      "[*********************100%***********************]  1 of 1 downloaded\n"
     ]
    }
   ],
   "source": [
    "import pandas as pd\n",
    "import datetime\n",
    "import numpy as np\n",
    "import pandas as pd\n",
    "%matplotlib inline\n",
    "pd.core.common.is_list_like = pd.api.types.is_list_like\n",
    "import pandas_datareader.data as web\n",
    "import fix_yahoo_finance as yf\n",
    "import datetime\n",
    "\n",
    "start = datetime.datetime(2008,1,1)\n",
    "end = datetime.datetime(2018,1,1)\n",
    "\n",
    "data_MS = yf.download('MS',start,end)['Close']\n",
    "\n"
   ]
  },
  {
   "cell_type": "code",
   "execution_count": 5,
   "metadata": {},
   "outputs": [
    {
     "data": {
      "text/plain": [
       "Date\n",
       "2008-01-02    50.950001\n",
       "2008-01-03    50.939999\n",
       "2008-01-04    49.299999\n",
       "2008-01-07    48.310001\n",
       "2008-01-08    46.400002\n",
       "2008-01-09    47.730000\n",
       "2008-01-10    48.410000\n",
       "2008-01-11    48.389999\n",
       "2008-01-14    48.900002\n",
       "2008-01-15    47.130001\n",
       "2008-01-16    47.389999\n",
       "2008-01-17    45.250000\n",
       "2008-01-18    45.110001\n",
       "2008-01-22    48.529999\n",
       "2008-01-23    51.700001\n",
       "2008-01-24    51.230000\n",
       "2008-01-25    48.889999\n",
       "2008-01-28    49.590000\n",
       "2008-01-29    49.459999\n",
       "2008-01-30    48.630001\n",
       "2008-01-31    49.340000\n",
       "2008-02-01    48.250000\n",
       "2008-02-04    48.029999\n",
       "2008-02-05    45.560001\n",
       "2008-02-06    44.950001\n",
       "2008-02-07    44.880001\n",
       "2008-02-08    43.189999\n",
       "2008-02-11    42.529999\n",
       "2008-02-12    42.709999\n",
       "2008-02-13    43.230000\n",
       "                ...    \n",
       "2017-11-16    48.599998\n",
       "2017-11-17    48.700001\n",
       "2017-11-20    49.110001\n",
       "2017-11-21    49.380001\n",
       "2017-11-22    49.090000\n",
       "2017-11-24    49.060001\n",
       "2017-11-27    49.000000\n",
       "2017-11-28    50.400002\n",
       "2017-11-29    51.320000\n",
       "2017-11-30    51.610001\n",
       "2017-12-01    51.950001\n",
       "2017-12-04    52.680000\n",
       "2017-12-05    52.009998\n",
       "2017-12-06    51.689999\n",
       "2017-12-07    52.349998\n",
       "2017-12-08    52.889999\n",
       "2017-12-11    52.770000\n",
       "2017-12-12    53.849998\n",
       "2017-12-13    53.180000\n",
       "2017-12-14    52.639999\n",
       "2017-12-15    53.099998\n",
       "2017-12-18    53.240002\n",
       "2017-12-19    52.930000\n",
       "2017-12-20    52.509998\n",
       "2017-12-21    52.880001\n",
       "2017-12-22    52.720001\n",
       "2017-12-26    52.470001\n",
       "2017-12-27    52.570000\n",
       "2017-12-28    52.650002\n",
       "2017-12-29    52.470001\n",
       "Name: Close, Length: 2518, dtype: float64"
      ]
     },
     "execution_count": 5,
     "metadata": {},
     "output_type": "execute_result"
    }
   ],
   "source": [
    "data_MS"
   ]
  },
  {
   "cell_type": "code",
   "execution_count": null,
   "metadata": {},
   "outputs": [],
   "source": []
  }
 ],
 "metadata": {
  "kernelspec": {
   "display_name": "Python 3",
   "language": "python",
   "name": "python3"
  },
  "language_info": {
   "codemirror_mode": {
    "name": "ipython",
    "version": 3
   },
   "file_extension": ".py",
   "mimetype": "text/x-python",
   "name": "python",
   "nbconvert_exporter": "python",
   "pygments_lexer": "ipython3",
   "version": "3.6.5"
  }
 },
 "nbformat": 4,
 "nbformat_minor": 2
}
